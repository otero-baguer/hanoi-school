{
 "cells": [
  {
   "cell_type": "markdown",
   "metadata": {},
   "source": [
    "# Neural Networks and 2x2 matrices\n",
    "\n",
    "In this session we will try to approximate a 2-by-2 matrix with a small neural network using $\\varphi=\\text{ReLU}(x)=\\text{max}\\lbrace x,0\\rbrace$ (Rectified linear units, applied component-wise) as nonlinear activation function.\n",
    "\n",
    "A small 16-parameter neural net with ReLU-nonlinearity in the first layer, no nonlinearity in the second one can represent a 2-by-2 matrix exactly.\n",
    "\n",
    "\n",
    "\n",
    "In this exercise we want to employ this net to approximate $A_\\varepsilon$ (direct operator) and $A_\\varepsilon^{-1}$ (inverse operator) for \n",
    "\n",
    "$$A_\\varepsilon = \\begin{bmatrix}\n",
    "    1  &  1 \\\\\n",
    "    1  &  1 + \\varepsilon \\\\\n",
    "\\end{bmatrix}\n",
    "$$\n",
    "\n",
    "and $\\varepsilon = 10^0, 10^{-1}, 10^{-2}, 10^{-3},...$\n",
    "\n",
    "### Exercise\n",
    "**a)** For fixed $\\epsilon > 0$ and $\\sigma > 0$ generate a data set $(x_i, y_i)$ with $x_i \\sim \\mathcal{N}(0, 1)$ and $y_i^\\delta = A_\\varepsilon x_i + \\sigma \\eta_i$, $\\eta_i \\sim \\mathcal{N}(0,1)$ for $i=1,...,10^3$. Create two plots, one containing the vectors $x_i$ and the other the vectors $y_i$."
   ]
  },
  {
   "cell_type": "code",
   "execution_count": null,
   "metadata": {},
   "outputs": [],
   "source": [
    "# !!Your code goes here\n",
    "\n",
    "\n",
    "\n",
    "\n",
    "\n"
   ]
  },
  {
   "cell_type": "markdown",
   "metadata": {},
   "source": [
    "**b)** For each value of $\\varepsilon$ generate the data set and split it as in the previous exercises into training and validation set. Then train the network with the previously described architecture to approximate $A_\\varepsilon$. Create one plot with all the validation error curves corresponding to the different values of $\\varepsilon$."
   ]
  },
  {
   "cell_type": "code",
   "execution_count": null,
   "metadata": {},
   "outputs": [],
   "source": [
    "# !!Your code goes here\n",
    "\n",
    "\n",
    "\n",
    "\n",
    "\n"
   ]
  },
  {
   "cell_type": "markdown",
   "metadata": {},
   "source": [
    "**c)** Do the same for $A_\\varepsilon^{-1}$."
   ]
  },
  {
   "cell_type": "code",
   "execution_count": null,
   "metadata": {},
   "outputs": [],
   "source": [
    "# !!Your code goes here\n",
    "\n",
    "\n",
    "\n",
    "\n",
    "\n",
    "\n",
    "\n",
    "\n"
   ]
  }
 ],
 "metadata": {
  "kernelspec": {
   "display_name": "Python 3",
   "language": "python",
   "name": "python3"
  },
  "language_info": {
   "codemirror_mode": {
    "name": "ipython",
    "version": 3
   },
   "file_extension": ".py",
   "mimetype": "text/x-python",
   "name": "python",
   "nbconvert_exporter": "python",
   "pygments_lexer": "ipython3",
   "version": "3.7.1"
  }
 },
 "nbformat": 4,
 "nbformat_minor": 2
}
