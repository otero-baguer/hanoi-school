{
 "cells": [
  {
   "cell_type": "markdown",
   "metadata": {},
   "source": [
    "## ISTA\n",
    "\n",
    "The **Iterative Soft Thresholding Algorithm (ISTA)** is used for solving inverse problems where the solution is known to be sparse. For such problems it is common to use $\\Vert \\cdot \\Vert _1$ as the regularization term in the Tikhonov functional: \n",
    "$$\n",
    "J(x)=  \\frac{1}{2} \\| A x - y^\\delta\\|^2  + \\alpha \\Vert x \\Vert _1.\n",
    "$$\n",
    "\n",
    "However for this case there is no closed formula as for $\\Vert \\cdot \\Vert _2$. The necessary first order condition for $x$ to be a minimizer is given by\n",
    "\n",
    "$$ \n",
    "0 \\in \\partial J(x)\n",
    "$$\n",
    "\n",
    "which is equivalent to\n",
    "\n",
    "$$\n",
    "0 \\in A^T(Ax-y^\\delta) + \\alpha \\partial \\Vert x \\Vert _1\n",
    "$$\n",
    "\n",
    "where $\\partial$ represents the [subgradient](https://en.wikipedia.org/wiki/Subderivative). For $\\lambda > 0$ this yields\n",
    "\n",
    "$$\n",
    "x - \\lambda A^T(Ax-y^\\delta)  \\in x + \\lambda \\alpha \\partial \\Vert x \\Vert _1.\n",
    "$$\n",
    "\n",
    "The above equation is equivalent to\n",
    "$$\n",
    "S_{\\lambda \\alpha} \\left(x - \\lambda A^T(Ax-y^\\delta)  \\right) = x. \n",
    "$$\n",
    "\n",
    "where $S_\\varepsilon$ is the proximal operator of $\\Vert \\cdot \\Vert _1$, which is the soft-thresholding function \n",
    "\n",
    "$$S_\\varepsilon(x) = \\text{sign}(x)\\text{max}(0, |x|-\\varepsilon)$$\n",
    "\n",
    "Turning the fixed point condition into an iteration scheme and reorganizing the operands yields the ISTA iteration\n",
    "\n",
    "$$\n",
    "x^{k+1} = S_{\\lambda \\alpha} \\left( (I - \\lambda A^TA)x^k  + \\lambda A^Ty^\\delta  \\right).\n",
    "$$\n"
   ]
  },
  {
   "cell_type": "markdown",
   "metadata": {},
   "source": [
    "## Exercise 1\n",
    "\n",
    "Recall the integration operator $A:L^2\\left(\\left[0,1\\right]\\right)\\rightarrow L^2\\left(\\left[0,1\\right]\\right)$\n",
    "\n",
    "$$ (Ax)(t) = \\int_0^{t}x(s) ds $$\n",
    "\n",
    "discretized by the matrix\n",
    "\n",
    "$$\\tilde{A}=h \\begin{bmatrix}\n",
    "    \\frac{1}{2}  & 0           & 0       & \\cdots & 0           & 0          \\\\\n",
    "    1            & \\frac{1}{2} & 0       & \\cdots & 0           & 0          \\\\\n",
    "    \\vdots       & \\vdots      & \\vdots  &        & \\vdots      & \\vdots     \\\\ \n",
    "    1            & 1           & 1       & \\cdots & \\frac{1}{2} & 0     \\\\ \n",
    "    1            & 1           & 1       & \\cdots & 1           & \\frac{1}{2}\\\\\n",
    "\\end{bmatrix}\n",
    "$$\n",
    "\n",
    "\n",
    "**a)** Create a sparse vector $x$. Create two plots one containing $x$ and the other one containing $y^\\delta = Ax + \\sigma\\eta$ with $\\eta \\sim \\mathcal{N}(0, 1)$ and $\\sigma=10^{-3}$."
   ]
  },
  {
   "cell_type": "code",
   "execution_count": 1,
   "metadata": {},
   "outputs": [
    {
     "name": "stderr",
     "output_type": "stream",
     "text": [
      "UsageError: Line magic function `%matplotlin` not found.\n"
     ]
    }
   ],
   "source": [
    "import numpy as np\n",
    "import matplotlib.pyplot as plt\n",
    "%matplotlib inline\n",
    "\n",
    "def plot_solution(x_true, x_delta=None):  \n",
    "    plt.scatter(s, x_true, marker='o', s=15, color='black')\n",
    "    for i in range(len(s)):\n",
    "        plt.plot([s[i], s[i]], [0, x_true[i]], linestyle=':', linewidth=1, color='black')\n",
    "    \n",
    "    if x_delta is not None:\n",
    "        plt.scatter(s, x_delta, marker='o', s=15, color='red', facecolors='none', zorder=100)\n",
    "    \n",
    "    \n",
    "N = 100\n",
    "h = 1 / N\n",
    "s = np.arange(h / 2, 1, h)\n",
    "\n",
    "A = h * (np.tril(np.ones(N)) - (1 / 2) * np.diag(np.ones(N)))\n",
    "\n",
    "x_true = np.zeros(N).reshape(-1, 1)\n",
    "x_true[30] = 40\n",
    "x_true[50] = -80\n",
    "x_true[65] = 50\n",
    "x_true[85] = -20\n",
    "\n",
    "\n",
    "plt.figure(figsize=(10, 4))\n",
    "plot_solution(x_true)"
   ]
  },
  {
   "cell_type": "code",
   "execution_count": null,
   "metadata": {},
   "outputs": [],
   "source": [
    "sigma = 0.001\n",
    "y_delta = np.dot(A, x_true) + sigma*np.random.normal(size=x_true.shape)\n",
    "\n",
    "plt.figure(figsize=(10, 4))\n",
    "plt.plot(y_delta)"
   ]
  },
  {
   "cell_type": "markdown",
   "metadata": {},
   "source": [
    "**b)** Try to reconstruct $x$ from $y^\\delta$ using Tikhonov with $\\Vert \\cdot \\Vert^2$ for different values of $\\alpha$."
   ]
  },
  {
   "cell_type": "code",
   "execution_count": null,
   "metadata": {},
   "outputs": [],
   "source": [
    "# Your code goes here !!!\n",
    "\n",
    "def tikhonov(A, y, alpha):\n",
    "    return np.linalg.solve(np.dot(A.T, A) + alpha * np.eye(len(y)), np.dot(A.T, y)) \n",
    "\n",
    "\n",
    "alphas = [1e-7, 1e-5, 1e-4, 1e-3]\n",
    "       \n",
    "for i in range(len(alphas)):\n",
    "    alpha = alphas[i]    \n",
    "    x_delta = tikhonov(A, y_delta, alpha)\n",
    "    \n",
    "    plt.figure(figsize=(10, 4))\n",
    "    plt.title(r'$\\alpha={}$'.format(alpha))\n",
    "    plot_solution(x_true, x_delta)"
   ]
  },
  {
   "cell_type": "markdown",
   "metadata": {},
   "source": [
    "## Exercise 2\n",
    "\n",
    "Implement the ISTA algorithm to solve the problem and use $\\alpha=10^{-4},10^{-3},10^{-2}$."
   ]
  },
  {
   "cell_type": "code",
   "execution_count": null,
   "metadata": {
    "scrolled": false
   },
   "outputs": [],
   "source": [
    "def ista(A, y, x0, alpha):\n",
    "    tol = 1e-6\n",
    "    lam = 1/(2*np.linalg.norm(A, 2)**2)\n",
    "    \n",
    "    W = np.eye(N) - lam * np.matmul(A.T, A)\n",
    "    b = lam * np.dot(A.T, y_delta)\n",
    "\n",
    "    def prox(x, eps):\n",
    "        return np.sign(x) * np.maximum(np.abs(x) - eps, 0.)\n",
    "    \n",
    "    x = x0  \n",
    "    for i in range(200000):\n",
    "        x0 = x\n",
    "        x = prox(np.dot(W, x0) + b, alpha * lam)\n",
    "        if np.linalg.norm(x-x0, 1) < tol:\n",
    "            print('Stopped after {} iterations'.format(i))\n",
    "            break\n",
    "    return x\n",
    "        \n",
    "alphas = [1e-4, 1e-3, 1e-2]\n",
    "\n",
    "for i in range(len(alphas)):\n",
    "    plt.figure(figsize=(10, 4))\n",
    "    \n",
    "    alpha = alphas[i]    \n",
    "    x_delta = ista(A, y_delta, np.zeros(shape=x_true.shape),  alpha)\n",
    "    \n",
    "    plt.title(r'$\\alpha={}$'.format(alpha))\n",
    "    plot_solution(x_true, x_delta)"
   ]
  }
 ],
 "metadata": {
  "kernelspec": {
   "display_name": "Python 3",
   "language": "python",
   "name": "python3"
  },
  "language_info": {
   "codemirror_mode": {
    "name": "ipython",
    "version": 3
   },
   "file_extension": ".py",
   "mimetype": "text/x-python",
   "name": "python",
   "nbconvert_exporter": "python",
   "pygments_lexer": "ipython3",
   "version": "3.7.1"
  }
 },
 "nbformat": 4,
 "nbformat_minor": 2
}
