{
 "cells": [
  {
   "cell_type": "markdown",
   "metadata": {},
   "source": [
    "# Introduction to Inverse Problems\n",
    "\n",
    "Consider the integration operator $A:L^2\\left(\\left[0,1\\right]\\right)\\rightarrow L^2\\left(\\left[0,1\\right]\\right)$\n",
    "\n",
    "$$ (Ax)(t) = \\int_0^{t}x(s) ds $$\n",
    "    \n",
    "    \n",
    "    \n",
    "\n",
    "$A$ is linear and compact, hence  the inverse problem is ill-posed. \n",
    "\n",
    "We want to be able to compute the operator numerically. To do this, we will discretize the interval $[0, 1]$ on the grid $s_i = (i-\\frac{1}{2})h, \\ i=1,2,...,N$ with $h = \\frac{1}{N}$. The function $x$ can be approximated by a piecewise constant step\n",
    "function $\\tilde{x}$ with values $x_i = f(s_i)$ on the interval $\\left[(i-1)h, ih\\right]$.\n",
    "\n",
    "The function $y = Ax$ can then be approximated by a vector $\\tilde{y}=(y_1,y_2, ...,y_N)$ defined as\n",
    "\n",
    "$$ y_i= (A \\tilde{x})(s_i) = \\int_0^{s_i}\\tilde{x}(s) ds $$\n",
    "\n",
    "\n",
    "\n",
    "\n",
    "\n",
    "\n",
    "One can prove that $\\tilde{y}$ is given by the matrix-vector multiplication $\\tilde{y} = \\tilde{A}\\tilde{x}$ with \n",
    "\n",
    "$$\\tilde{A}=h \\begin{bmatrix}\n",
    "    \\frac{1}{2}  & 0           & 0       & \\cdots & 0           & 0          \\\\\n",
    "    1            & \\frac{1}{2} & 0       & \\cdots & 0           & 0          \\\\\n",
    "    \\vdots       & \\vdots      & \\vdots  &        & \\vdots      & \\vdots     \\\\ \n",
    "    1            & 1           & 1       & \\cdots & \\frac{1}{2} & 0     \\\\ \n",
    "    1            & 1           & 1       & \\cdots & 1           & \\frac{1}{2}\\\\\n",
    "\\end{bmatrix}\n",
    "$$\n",
    "\n"
   ]
  },
  {
   "cell_type": "markdown",
   "metadata": {},
   "source": [
    "## Exercise 1 (Operator discretization)\n",
    "**a)** Compute and plot the above introduced discretization matrix corresponding to the operator $A$. <br> \n",
    "\n",
    "**Hint:** Use the function `plt.imshow` to show a matrix as an image."
   ]
  },
  {
   "cell_type": "code",
   "execution_count": 1,
   "metadata": {},
   "outputs": [],
   "source": [
    "# a) Your code goes here !!!\n",
    "\n",
    "\n",
    "\n",
    "\n",
    "\n",
    "\n",
    "\n"
   ]
  },
  {
   "cell_type": "markdown",
   "metadata": {},
   "source": [
    "**b)** Using the above mentioned discretization, compute and plot $x(s) = e^{2s} \\cos(5s)$ and $y(t) = (Ax)(t)$.\n",
    "\n",
    "**Hint:** Use the function `plt.plot` and inlcude the argument `label` for each plot to distingish them. Use the method `plt.legend()` to show the legend."
   ]
  },
  {
   "cell_type": "code",
   "execution_count": 2,
   "metadata": {},
   "outputs": [],
   "source": [
    "# b) Your code goes here !!!\n",
    "\n",
    "\n",
    "\n",
    "\n",
    "\n",
    "\n",
    "\n"
   ]
  },
  {
   "cell_type": "markdown",
   "metadata": {},
   "source": [
    "## Exercise 2 (Direct Inversion)"
   ]
  },
  {
   "cell_type": "markdown",
   "metadata": {},
   "source": [
    "Now lets try to reconstruct $x$ from $y$. For that we would need in principle to compute the inverse of the matrix $A$. <br>\n",
    "\n",
    "**a)** Set $y^\\delta = y + \\tau$ with $\\tau \\sim N(0, \\sigma^2\\mathbb{1}_n)$ and try to reconstruct $x^\\delta = A^{-1} y^\\delta$. Set $\\delta=0, 10^{-4}, 10^{-3}, 10^{-2}$ and show $y^\\delta$ and $x^\\delta$ in different plots (2 columns each).<br>\n",
    "\n",
    "**Hint:** Use `np.linalg.inv()` for computing the inverse and `np.random.normal()` for the noise"
   ]
  },
  {
   "cell_type": "code",
   "execution_count": 3,
   "metadata": {},
   "outputs": [],
   "source": [
    "# a) Your code goes here !!!\n",
    "\n",
    "\n",
    "\n",
    "\n",
    "\n",
    "\n",
    "\n"
   ]
  },
  {
   "cell_type": "markdown",
   "metadata": {},
   "source": [
    "## Exercise 3 (Truncated SVD)\n",
    "\n",
    "**a)** Compute the SVD of the matrix $A$ and check that indeed $USV^T=A$. <br>\n",
    "\n",
    "**Hint:** Use the method `np.linalg.svd()` for computing the SVD."
   ]
  },
  {
   "cell_type": "code",
   "execution_count": 4,
   "metadata": {},
   "outputs": [],
   "source": [
    "# a) Your code goes here !!!\n",
    "\n",
    "\n",
    "\n",
    "\n",
    "\n",
    "\n",
    "\n"
   ]
  },
  {
   "cell_type": "markdown",
   "metadata": {},
   "source": [
    "**b)** Plot the singular values of $A$. <br>"
   ]
  },
  {
   "cell_type": "code",
   "execution_count": 5,
   "metadata": {},
   "outputs": [],
   "source": [
    "# b) Your code goes here !!!\n",
    "\n",
    "\n",
    "\n",
    "\n",
    "\n",
    "\n",
    "\n"
   ]
  },
  {
   "cell_type": "markdown",
   "metadata": {},
   "source": [
    "**c)** Implement the truncated SVD and compute the reconstructions for $\\sigma=10^{-2}$ and $\\alpha=10^{-4},10^{-3},10^{-2},10^{-1}$."
   ]
  },
  {
   "cell_type": "code",
   "execution_count": 6,
   "metadata": {},
   "outputs": [],
   "source": [
    "# a) Your code goes here !!!\n",
    "\n",
    "\n",
    "\n",
    "\n",
    "\n",
    "\n",
    "\n"
   ]
  },
  {
   "cell_type": "markdown",
   "metadata": {},
   "source": [
    "## Exercise 4 (Tikhonov)\n",
    "\n",
    "Now lets compute the reconstruction using the Tikhonov approach, i.e the reconstruction is computed by\n",
    "$$x^\\delta = (A^TA + \\alpha I)^{-1}A^Ty^\\delta$$ \n",
    "\n",
    "**a)** Implement the Tikhonov method and compute the reconstructions for $\\sigma=10^{-2}$ and $\\alpha=10^{-4},10^{-3},10^{-2},10^{-1}$."
   ]
  },
  {
   "cell_type": "code",
   "execution_count": 7,
   "metadata": {},
   "outputs": [],
   "source": [
    "# a) Your code goes here !!!\n",
    "\n",
    "\n",
    "\n",
    "\n",
    "\n",
    "\n",
    "\n"
   ]
  }
 ],
 "metadata": {
  "kernelspec": {
   "display_name": "Python 3",
   "language": "python",
   "name": "python3"
  },
  "language_info": {
   "codemirror_mode": {
    "name": "ipython",
    "version": 3
   },
   "file_extension": ".py",
   "mimetype": "text/x-python",
   "name": "python",
   "nbconvert_exporter": "python",
   "pygments_lexer": "ipython3",
   "version": "3.7.1"
  }
 },
 "nbformat": 4,
 "nbformat_minor": 2
}
