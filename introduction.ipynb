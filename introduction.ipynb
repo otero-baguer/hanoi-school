{
 "cells": [
  {
   "cell_type": "markdown",
   "metadata": {},
   "source": [
    "# Python Introduction\n",
    "\n",
    "Python is a very simple language. It is an interpreted language, which means that code can be executed as soon as it is written. This facilitates to do very quick prototyping. It is open-source and works in multiple platforms (Windows, Mac, Linux, Raspberry Pi, etc).\n",
    "\n",
    "Some highlights:\n",
    "- Was designed to for **readability**, and has some similarities to the English language with influence from mathematics.\n",
    "- Uses new lines to complete a command, as opposed to other programming languages which often use semicolons or parentheses.\n",
    "- Relies on **indentation**, using whitespace, to define scope; such as the scope of loops, functions and classes. Other programming languages often use curly-brackets for this purpose.\n",
    "\n",
    "Now we will make a very short introduction to the Python's syntax and its main data structures. We will also see how to work with vector and matrices to make math operations."
   ]
  },
  {
   "cell_type": "markdown",
   "metadata": {},
   "source": [
    "## Variables\n",
    "Declaring a veriable is as easy as writting `a = 5`"
   ]
  },
  {
   "cell_type": "code",
   "execution_count": 1,
   "metadata": {},
   "outputs": [
    {
     "name": "stdout",
     "output_type": "stream",
     "text": [
      "15\n",
      "35\n"
     ]
    }
   ],
   "source": [
    "a = 5\n",
    "b = 10\n",
    "print(a+b)\n",
    "c = 20\n",
    "print(a+b+c)"
   ]
  },
  {
   "cell_type": "markdown",
   "metadata": {},
   "source": [
    "## Basic data structures"
   ]
  },
  {
   "cell_type": "markdown",
   "metadata": {},
   "source": [
    "### Tuples"
   ]
  },
  {
   "cell_type": "code",
   "execution_count": 2,
   "metadata": {},
   "outputs": [
    {
     "name": "stdout",
     "output_type": "stream",
     "text": [
      "(1, 2, 3)\n",
      "1\n",
      "2\n",
      "3\n"
     ]
    }
   ],
   "source": [
    "# tuples\n",
    "t = (1, 2, 3)\n",
    "print(t)\n",
    "print(t[0])\n",
    "print(t[1])\n",
    "print(t[2])"
   ]
  },
  {
   "cell_type": "markdown",
   "metadata": {},
   "source": [
    "### Lists"
   ]
  },
  {
   "cell_type": "code",
   "execution_count": 3,
   "metadata": {},
   "outputs": [
    {
     "name": "stdout",
     "output_type": "stream",
     "text": [
      "[4, 2, 1, 3]\n",
      "[4, 2, 1, 3, 5]\n",
      "[4, 2, 1, 3, 5, 6]\n"
     ]
    }
   ],
   "source": [
    "# creating a list\n",
    "x = [4, 2, 1, 3]\n",
    "print(x)\n",
    "x.append(5)\n",
    "print(x)\n",
    "x += [6]\n",
    "print(x)"
   ]
  },
  {
   "cell_type": "code",
   "execution_count": 4,
   "metadata": {},
   "outputs": [
    {
     "name": "stdout",
     "output_type": "stream",
     "text": [
      "[(4, 1), (1, 2), (7, 3), (1, 4), (10, 4)]\n"
     ]
    }
   ],
   "source": [
    "# creating a list of tuples \n",
    "x = [(1,2), (4,1), (1,4), (7,3), (10, 4)]\n",
    "\n",
    "# sorting\n",
    "x = sorted(x, key=lambda z: z[1])\n",
    "print(x)"
   ]
  },
  {
   "cell_type": "markdown",
   "metadata": {},
   "source": [
    "### Sets"
   ]
  },
  {
   "cell_type": "code",
   "execution_count": 5,
   "metadata": {},
   "outputs": [
    {
     "name": "stdout",
     "output_type": "stream",
     "text": [
      "{2, 3}\n",
      "{2, 3, 4}\n",
      "{2}\n"
     ]
    }
   ],
   "source": [
    "# creating a set\n",
    "x = set()\n",
    "x.add(2)\n",
    "x.add(3)\n",
    "x.add(3)\n",
    "print(x)\n",
    "x.add(4)\n",
    "print(x)\n",
    "y = set()\n",
    "y.add(1)\n",
    "y.add(2)\n",
    "print(x & y)"
   ]
  },
  {
   "cell_type": "markdown",
   "metadata": {},
   "source": [
    "### Dictionaries"
   ]
  },
  {
   "cell_type": "code",
   "execution_count": 6,
   "metadata": {},
   "outputs": [
    {
     "name": "stdout",
     "output_type": "stream",
     "text": [
      "{'Hanoi': 1, 'Ho Chi Minh': 2}\n",
      "1\n",
      "dict_keys(['Hanoi', 'Ho Chi Minh'])\n",
      "dict_values([1, 2])\n"
     ]
    }
   ],
   "source": [
    "# creating a dictionary\n",
    "x = dict()\n",
    "x['Hanoi'] = 1\n",
    "x['Ho Chi Minh'] = 2\n",
    "print(x)\n",
    "print(x['Hanoi'])\n",
    "\n",
    "# dictionary keys and values\n",
    "print(x.keys())\n",
    "print(x.values())"
   ]
  },
  {
   "cell_type": "markdown",
   "metadata": {},
   "source": [
    "### Strings"
   ]
  },
  {
   "cell_type": "code",
   "execution_count": 7,
   "metadata": {},
   "outputs": [
    {
     "name": "stdout",
     "output_type": "stream",
     "text": [
      "Hello, Hanoi, Vietnam!\n"
     ]
    }
   ],
   "source": [
    "name = 'Hanoi, Vietnam'\n",
    "print(\"Hello, %s!\" % name)"
   ]
  },
  {
   "cell_type": "code",
   "execution_count": 8,
   "metadata": {},
   "outputs": [
    {
     "name": "stdout",
     "output_type": "stream",
     "text": [
      "Hanoi, Vietnam is 1000 years old.\n",
      "Hanoi, Vietnam is 1000 years old.\n"
     ]
    }
   ],
   "source": [
    "age = 1000\n",
    "print(\"%s is %d years old.\" % (name, age))\n",
    "print(\"{} is {} years old.\".format(name, age))"
   ]
  },
  {
   "cell_type": "code",
   "execution_count": 9,
   "metadata": {},
   "outputs": [
    {
     "name": "stdout",
     "output_type": "stream",
     "text": [
      "A list: [1, 2, 3]\n"
     ]
    }
   ],
   "source": [
    "# This prints out: A list: [1, 2, 3]\n",
    "mylist = [1, 2, 3]\n",
    "print(\"A list: %s\" % mylist)"
   ]
  },
  {
   "cell_type": "markdown",
   "metadata": {},
   "source": [
    "## Basic Operations"
   ]
  },
  {
   "cell_type": "markdown",
   "metadata": {},
   "source": [
    "### Conditions\n",
    "The result of a condition is expressed with a boolean variable. The boolean values **True** and **False** are returned when an expression is compared or evaluated. For example:"
   ]
  },
  {
   "cell_type": "code",
   "execution_count": 10,
   "metadata": {},
   "outputs": [
    {
     "name": "stdout",
     "output_type": "stream",
     "text": [
      "True\n",
      "False\n",
      "True\n"
     ]
    }
   ],
   "source": [
    "x = 2\n",
    "print(x == 2) # prints out True\n",
    "print(x == 3) # prints out False\n",
    "print(x < 3) # prints out True"
   ]
  },
  {
   "cell_type": "code",
   "execution_count": 11,
   "metadata": {},
   "outputs": [
    {
     "name": "stdout",
     "output_type": "stream",
     "text": [
      "Your name is either Hanoi or Havana.\n"
     ]
    }
   ],
   "source": [
    "name = \"Havana\"\n",
    "age = 1000\n",
    "\n",
    "if name == \"Hanoi\" and age == 1000:\n",
    "    print(\"Your name is Hanoi, and you are 1000 years old.\")\n",
    "\n",
    "if name == \"Hanoi\" or name == \"Havana\":\n",
    "    print(\"Your name is either Hanoi or Havana.\")"
   ]
  },
  {
   "cell_type": "code",
   "execution_count": 12,
   "metadata": {},
   "outputs": [
    {
     "name": "stdout",
     "output_type": "stream",
     "text": [
      "x equals two!\n"
     ]
    }
   ],
   "source": [
    "x = 2\n",
    "if x == 2:\n",
    "    print(\"x equals two!\")\n",
    "else:\n",
    "    print(\"x does not equal to two.\")"
   ]
  },
  {
   "cell_type": "code",
   "execution_count": 13,
   "metadata": {},
   "outputs": [
    {
     "name": "stdout",
     "output_type": "stream",
     "text": [
      "True\n",
      "False\n",
      "True\n",
      "True\n"
     ]
    }
   ],
   "source": [
    "x = [1, 2, 3]\n",
    "y = [1, 2, 3]\n",
    "print(x == y) # Prints out True\n",
    "print(x is y) # Prints out False\n",
    "print(x is x) # Prints out True\n",
    "\n",
    "print(not x is y)"
   ]
  },
  {
   "cell_type": "code",
   "execution_count": 14,
   "metadata": {},
   "outputs": [
    {
     "name": "stdout",
     "output_type": "stream",
     "text": [
      "True\n",
      "False\n"
     ]
    }
   ],
   "source": [
    "print(not False) # Prints out True\n",
    "print((not False) == (False)) # Prints out False"
   ]
  },
  {
   "cell_type": "markdown",
   "metadata": {},
   "source": [
    "### Loops"
   ]
  },
  {
   "cell_type": "code",
   "execution_count": 15,
   "metadata": {},
   "outputs": [
    {
     "name": "stdout",
     "output_type": "stream",
     "text": [
      "2\n",
      "3\n",
      "5\n",
      "7\n"
     ]
    }
   ],
   "source": [
    "primes = [2, 3, 5, 7]\n",
    "for i in range(4):\n",
    "    print(primes[i])"
   ]
  },
  {
   "cell_type": "code",
   "execution_count": 16,
   "metadata": {},
   "outputs": [
    {
     "name": "stdout",
     "output_type": "stream",
     "text": [
      "0\n",
      "1\n",
      "2\n",
      "3\n",
      "4\n",
      "\n",
      "3\n",
      "4\n",
      "5\n",
      "\n",
      "3\n",
      "5\n",
      "7\n"
     ]
    }
   ],
   "source": [
    "# Prints out the numbers 0,1,2,3,4\n",
    "for x in range(5):\n",
    "    print(x)\n",
    "\n",
    "print()\n",
    "\n",
    "# Prints out 3,4,5\n",
    "for x in range(3, 6):\n",
    "    print(x)\n",
    "    \n",
    "print()\n",
    "\n",
    "# Prints out 3,5,7\n",
    "for x in range(3, 8, 2):\n",
    "    print(x)"
   ]
  },
  {
   "cell_type": "code",
   "execution_count": 17,
   "metadata": {},
   "outputs": [
    {
     "name": "stdout",
     "output_type": "stream",
     "text": [
      "0\n",
      "1\n",
      "2\n",
      "3\n",
      "4\n"
     ]
    }
   ],
   "source": [
    "# Prints out 0,1,2,3,4\n",
    "count = 0\n",
    "while count < 5:\n",
    "    print(count)\n",
    "    count += 1  # This is the same as count = count + 1"
   ]
  },
  {
   "cell_type": "code",
   "execution_count": 18,
   "metadata": {},
   "outputs": [
    {
     "name": "stdout",
     "output_type": "stream",
     "text": [
      "0\n",
      "1\n",
      "2\n",
      "3\n",
      "4\n",
      "\n",
      "1\n",
      "3\n",
      "5\n",
      "7\n",
      "9\n"
     ]
    }
   ],
   "source": [
    "# Prints out 0,1,2,3,4\n",
    "count = 0\n",
    "while True:\n",
    "    print(count)\n",
    "    count += 1\n",
    "    if count >= 5:\n",
    "        break\n",
    "\n",
    "print()\n",
    "\n",
    "# Prints out only odd numbers - 1,3,5,7,9\n",
    "for x in range(10):\n",
    "    # Check if x is even\n",
    "    if x % 2 == 0:\n",
    "        continue\n",
    "    print(x)"
   ]
  },
  {
   "cell_type": "markdown",
   "metadata": {},
   "source": [
    "## Classes and Objects\n",
    "Objects are an encapsulation of variables and functions into a single entity. Objects get their variables and functions from classes. Classes are essentially a template to create your objects.\n",
    "A very basic class would look something like this:"
   ]
  },
  {
   "cell_type": "code",
   "execution_count": 19,
   "metadata": {},
   "outputs": [],
   "source": [
    "class MyClass:\n",
    "    variable = \"xin chào\"\n",
    "    def function(self):\n",
    "        print(\"This is a message inside the class.\")\n",
    "\n",
    "myobject = MyClass()"
   ]
  },
  {
   "cell_type": "markdown",
   "metadata": {},
   "source": [
    "We'll explain why you have to include that \"self\" as a parameter a little bit later. First, to assign the above class(template) to an object you would do the following:"
   ]
  },
  {
   "cell_type": "code",
   "execution_count": 20,
   "metadata": {},
   "outputs": [
    {
     "name": "stdout",
     "output_type": "stream",
     "text": [
      "xin chào\n",
      "This is a message inside the class.\n"
     ]
    }
   ],
   "source": [
    "print(myobject.variable)\n",
    "myobject.function()"
   ]
  },
  {
   "cell_type": "code",
   "execution_count": 21,
   "metadata": {},
   "outputs": [
    {
     "name": "stdout",
     "output_type": "stream",
     "text": [
      "xin chào\n",
      "tạm biệt\n"
     ]
    }
   ],
   "source": [
    "myobject2 = MyClass()\n",
    "\n",
    "myobject2.variable = \"tạm biệt\"\n",
    "\n",
    "# Then print out both values\n",
    "print(myobject.variable)\n",
    "print(myobject2.variable)"
   ]
  },
  {
   "cell_type": "code",
   "execution_count": 22,
   "metadata": {},
   "outputs": [
    {
     "name": "stdout",
     "output_type": "stream",
     "text": [
      "This is a message inside the class.\n"
     ]
    }
   ],
   "source": [
    "myobject.function()"
   ]
  },
  {
   "cell_type": "markdown",
   "metadata": {},
   "source": [
    "## Numpy\n",
    "Numpy is a python module for better dealing with matrices and vectors. Some of the key advantages are that it is quite fast, easy to work with, and give users the opportunity to perform calculations across entire arrays.\n",
    "\n",
    "### Numpy Vectors"
   ]
  },
  {
   "cell_type": "code",
   "execution_count": 23,
   "metadata": {},
   "outputs": [
    {
     "name": "stdout",
     "output_type": "stream",
     "text": [
      "[1, 2, 3, 3, 4, 5]\n"
     ]
    }
   ],
   "source": [
    "x = [1, 2, 3]\n",
    "y = [3, 4, 5]\n",
    "print(x + y)"
   ]
  },
  {
   "cell_type": "code",
   "execution_count": 24,
   "metadata": {},
   "outputs": [
    {
     "name": "stdout",
     "output_type": "stream",
     "text": [
      "[1.5 2.1 3.2 4.3]\n",
      "[0.5 1.9 2.8 3.7]\n",
      "2.5\n"
     ]
    }
   ],
   "source": [
    "# Import the numpy package as np\n",
    "import numpy as np\n",
    "\n",
    "# Create two numpy vectors\n",
    "v1 = np.array([1, 2, 3, 4])\n",
    "v2 = np.array([0.5, 0.1, 0.2, 0.3])\n",
    "\n",
    "print(v1 + v2)\n",
    "print(v1 - v2)\n",
    "print(np.dot(v1, v2))"
   ]
  },
  {
   "cell_type": "markdown",
   "metadata": {},
   "source": [
    "Now lets do some calculations along the vectors"
   ]
  },
  {
   "cell_type": "code",
   "execution_count": 25,
   "metadata": {},
   "outputs": [
    {
     "name": "stdout",
     "output_type": "stream",
     "text": [
      "[1, 4, 9, 16]\n",
      "[1, 4, 9, 16]\n",
      "[ 1  4  9 16]\n"
     ]
    }
   ],
   "source": [
    "# Compute a vector with the same elements squared\n",
    "# 1)\n",
    "result = []\n",
    "for i in range(len(v1)):\n",
    "    result += [v1[i] ** 2]\n",
    "print(result)\n",
    "\n",
    "# 2)\n",
    "result = [x**2 for x in v1]\n",
    "print(result)\n",
    "\n",
    "# 3)\n",
    "print(v1 ** 2)"
   ]
  },
  {
   "cell_type": "code",
   "execution_count": 26,
   "metadata": {},
   "outputs": [
    {
     "name": "stdout",
     "output_type": "stream",
     "text": [
      "[False False  True  True]\n",
      "[3 4]\n"
     ]
    }
   ],
   "source": [
    "# Boolean response\n",
    "print(v1 > 2)\n",
    "\n",
    "print(v1[v1 > 2])"
   ]
  },
  {
   "cell_type": "markdown",
   "metadata": {},
   "source": [
    "### Numpy matrix operations"
   ]
  },
  {
   "cell_type": "code",
   "execution_count": 27,
   "metadata": {},
   "outputs": [
    {
     "name": "stdout",
     "output_type": "stream",
     "text": [
      "[[1 2 3]\n",
      " [1 2 3]\n",
      " [2 3 4]]\n",
      "\n",
      "[[1 1]\n",
      " [1 1]\n",
      " [1 1]]\n",
      "\n",
      "[[6 6]\n",
      " [6 6]\n",
      " [9 9]]\n"
     ]
    }
   ],
   "source": [
    "# 3 x 3 matrix\n",
    "A = np.array([[1, 2, 3], [1, 2, 3], [2, 3, 4]])\n",
    "print(A)\n",
    "\n",
    "print()\n",
    "# 3 x 2 matrix\n",
    "B = np.array([[1, 1], [1, 1], [1, 1]])\n",
    "print(B)\n",
    "\n",
    "print()\n",
    "\n",
    "print(np.dot(A, B))"
   ]
  },
  {
   "cell_type": "markdown",
   "metadata": {},
   "source": [
    "# Exercises\n",
    "**1)** Solve the following linear system and check the result afterwards\n",
    "\n",
    "$$3a+4b−5c+d =10$$\n",
    "$$2a+2b+2c−d = 5$$\n",
    "$$a−b+5c−5d =7$$\n",
    "$$5a+d =4$$"
   ]
  },
  {
   "cell_type": "code",
   "execution_count": 28,
   "metadata": {},
   "outputs": [
    {
     "name": "stdout",
     "output_type": "stream",
     "text": [
      "[ 0.46768061  1.66159696 -0.8973384  -2.53612167]\n",
      "[10.  5.  7.  4.]\n"
     ]
    }
   ],
   "source": [
    "A = np.array([[3, 4, -5, 1], \n",
    "              [2, 2, 2, -1], \n",
    "              [1, -1, 5, -5], \n",
    "              [5, 1, 0, 0]])\n",
    "\n",
    "b = np.array([10, 5, 7, 4])\n",
    "x = np.linalg.solve(A ,b)\n",
    "print(x)\n",
    "print(np.dot(A, x))"
   ]
  },
  {
   "cell_type": "markdown",
   "metadata": {},
   "source": [
    "## Matplotlib\n",
    "\n",
    "The [Matplotlib](https://matplotlib.org/) package is the main plotting package for python. It tries to make easy things easy and hard things possible. You can generate plots, histograms, power spectra, bar charts, errorcharts, scatterplots, etc., with just a few lines of code. For examples, see the sample plots and thumbnail gallery.\n",
    "\n",
    "For simple plotting the `pyplot` module provides a MATLAB-like interface, particularly when combined with IPython. For the power user, you have full control of line styles, font properties, axes properties, etc, via an object oriented interface or via a set of functions familiar to MATLAB users."
   ]
  },
  {
   "cell_type": "code",
   "execution_count": 29,
   "metadata": {},
   "outputs": [
    {
     "data": {
      "image/png": "[encoded data removed]",
      "text/plain": [
       "<Figure size 432x288 with 1 Axes>"
      ]
     },
     "metadata": {
      "needs_background": "light"
     },
     "output_type": "display_data"
    }
   ],
   "source": [
    "import matplotlib.pyplot as plt\n",
    "%matplotlib inline\n",
    "x = np.linspace(0, 10, 100)\n",
    "y = np.sin(x)\n",
    "\n",
    "plt.plot(x, y);"
   ]
  },
  {
   "cell_type": "markdown",
   "metadata": {},
   "source": [
    "## Exercises\n",
    "\n",
    "1) Create 2 random points. Make a plot with the 2 points and the line that passes through both points.\n",
    "\n",
    "**Hint:** Use the `plt.scatter()` function to plot the points."
   ]
  },
  {
   "cell_type": "code",
   "execution_count": 30,
   "metadata": {},
   "outputs": [
    {
     "data": {
      "image/png": "[encoded data removed]",
      "text/plain": [
       "<Figure size 432x288 with 1 Axes>"
      ]
     },
     "metadata": {
      "needs_background": "light"
     },
     "output_type": "display_data"
    }
   ],
   "source": [
    "p1 = np.random.rand(2)\n",
    "p2 = np.random.rand(2)\n",
    "plt.scatter([p1[0], p2[0]], [p1[1], p2[1]], color='red')\n",
    "plt.plot([p1[0], p2[0]], [p1[1], p2[1]]);"
   ]
  },
  {
   "cell_type": "markdown",
   "metadata": {},
   "source": [
    "## Documentation\n",
    "\n",
    "Whenever you are programming in a new language it is really important to use the documentation to find out what methods are available on each package. \n",
    "\n",
    "These are some of the package documentation that might be helpful for you in this course:\n",
    " - [**numpy**](http://www.numpy.org/): for scientific computing (vectors and matrices operations)\n",
    " - [**numpy.linalg**](https://docs.scipy.org/doc/numpy/reference/routines.linalg.html): for linear algebra methods.\n",
    " - [**skimage**](http://scikit-image.org/docs): for image processing task (here you can find the *Radon* transform)\n",
    " - [**sklearn**](https://scikit-learn.org): for machine learning tasks, includes example datasets and many usefull functions for doing machine learning.\n",
    " - [**keras**](https://keras.io/): friendly common interface for creating neural networks using different backends, such as tensorflow and theano."
   ]
  }
 ],
 "metadata": {
  "kernelspec": {
   "display_name": "Python 3",
   "language": "python",
   "name": "python3"
  },
  "language_info": {
   "codemirror_mode": {
    "name": "ipython",
    "version": 3
   },
   "file_extension": ".py",
   "mimetype": "text/x-python",
   "name": "python",
   "nbconvert_exporter": "python",
   "pygments_lexer": "ipython3",
   "version": "3.7.1"
  }
 },
 "nbformat": 4,
 "nbformat_minor": 2
}
